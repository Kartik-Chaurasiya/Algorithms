{
  "nbformat": 4,
  "nbformat_minor": 0,
  "metadata": {
    "colab": {
      "name": "Algorithms.ipynb",
      "provenance": [],
      "authorship_tag": "ABX9TyMtkd7djCWC2ojeawkjb613",
      "include_colab_link": true
    },
    "kernelspec": {
      "name": "python3",
      "display_name": "Python 3"
    }
  },
  "cells": [
    {
      "cell_type": "markdown",
      "metadata": {
        "id": "view-in-github",
        "colab_type": "text"
      },
      "source": [
        "<a href=\"https://colab.research.google.com/github/Syntax-code/Algorithms/blob/master/Algorithms.ipynb\" target=\"_parent\"><img src=\"https://colab.research.google.com/assets/colab-badge.svg\" alt=\"Open In Colab\"/></a>"
      ]
    },
    {
      "cell_type": "markdown",
      "metadata": {
        "id": "VXOM-YQRAx4K"
      },
      "source": [
        "Ascending"
      ]
    },
    {
      "cell_type": "code",
      "metadata": {
        "id": "dzUeVVX0-Ck5",
        "outputId": "04c5f0a3-1f9f-4574-81b4-1bb6c3dd481f",
        "colab": {
          "base_uri": "https://localhost:8080/"
        }
      },
      "source": [
        "arr = [45,32,2,44,1]\n",
        "for i in range(len(arr)):\n",
        "  key = arr[i]\n",
        "  j = i-1\n",
        "  while j >= 0 and key < arr[j] : \n",
        "          arr[j + 1] = arr[j] \n",
        "          j -= 1\n",
        "  arr[j + 1] = key \n",
        "print(arr)"
      ],
      "execution_count": 4,
      "outputs": [
        {
          "output_type": "stream",
          "text": [
            "[1, 2, 32, 44, 45]\n"
          ],
          "name": "stdout"
        }
      ]
    },
    {
      "cell_type": "markdown",
      "metadata": {
        "id": "AUp2vMypA0SI"
      },
      "source": [
        "Descending"
      ]
    },
    {
      "cell_type": "code",
      "metadata": {
        "id": "pXEjUsPtA1se",
        "outputId": "2eff6931-33c0-4db3-bb10-3789d88db5b5",
        "colab": {
          "base_uri": "https://localhost:8080/"
        }
      },
      "source": [
        "arr = [45,32,2,44,1]\n",
        "for i in range(len(arr)):\n",
        "  key = arr[i]\n",
        "  j = i-1\n",
        "  while j >= 0 and key > arr[j] : \n",
        "          arr[j + 1] = arr[j] \n",
        "          j -= 1\n",
        "  arr[j + 1] = key \n",
        "print(arr)"
      ],
      "execution_count": 9,
      "outputs": [
        {
          "output_type": "stream",
          "text": [
            "[45, 44, 32, 2, 1]\n"
          ],
          "name": "stdout"
        }
      ]
    },
    {
      "cell_type": "code",
      "metadata": {
        "id": "5UgjGuJyCzbn"
      },
      "source": [
        ""
      ],
      "execution_count": null,
      "outputs": []
    }
  ]
}