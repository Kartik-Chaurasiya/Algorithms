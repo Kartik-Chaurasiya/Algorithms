{
  "nbformat": 4,
  "nbformat_minor": 0,
  "metadata": {
    "colab": {
      "name": "Bubble_Sort.ipynb",
      "provenance": [],
      "authorship_tag": "ABX9TyMKX1+uLFrVXRAc35qUW1T1",
      "include_colab_link": true
    },
    "kernelspec": {
      "name": "python3",
      "display_name": "Python 3"
    }
  },
  "cells": [
    {
      "cell_type": "markdown",
      "metadata": {
        "id": "view-in-github",
        "colab_type": "text"
      },
      "source": [
        "<a href=\"https://colab.research.google.com/github/Syntax-code/Algorithms/blob/master/Bubble_Sort.ipynb\" target=\"_parent\"><img src=\"https://colab.research.google.com/assets/colab-badge.svg\" alt=\"Open In Colab\"/></a>"
      ]
    },
    {
      "cell_type": "code",
      "metadata": {
        "id": "o1dWsZVvOAJO",
        "colab_type": "code",
        "colab": {}
      },
      "source": [
        "class Algorithm:\n",
        "  def BubbleSort(self, arr):\n",
        "    l = len(arr)\n",
        "    ## Traverse through all array elements \n",
        "    for i in range(l):\n",
        "      # Last i elements are already in place \n",
        "      for j in range(0, l-i-1):\n",
        "        if arr[j] > arr[j+1] : \n",
        "          arr[j], arr[j+1] = arr[j+1], arr[j] \n",
        "    return arr\n",
        "\n"
      ],
      "execution_count": 0,
      "outputs": []
    },
    {
      "cell_type": "code",
      "metadata": {
        "id": "e4SALG0YcfGg",
        "colab_type": "code",
        "colab": {
          "base_uri": "https://localhost:8080/",
          "height": 33
        },
        "outputId": "1be6cc4b-609e-4a83-de86-65301edba05a"
      },
      "source": [
        "arr = [64, 34, 25, 12, 22, 11, 90] \n",
        "bubblesort = Algorithm()\n",
        "print(bubblesort.BubbleSort(arr))"
      ],
      "execution_count": 4,
      "outputs": [
        {
          "output_type": "stream",
          "text": [
            "[11, 12, 22, 25, 34, 64, 90]\n"
          ],
          "name": "stdout"
        }
      ]
    }
  ]
}