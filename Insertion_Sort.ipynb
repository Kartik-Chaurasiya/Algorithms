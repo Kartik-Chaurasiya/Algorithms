{
  "nbformat": 4,
  "nbformat_minor": 0,
  "metadata": {
    "colab": {
      "name": "Insertion Sort.ipynb",
      "provenance": [],
      "authorship_tag": "ABX9TyPUZ+xnOl/HgyMgzW9xnfYk",
      "include_colab_link": true
    },
    "kernelspec": {
      "name": "python3",
      "display_name": "Python 3"
    }
  },
  "cells": [
    {
      "cell_type": "markdown",
      "metadata": {
        "id": "view-in-github",
        "colab_type": "text"
      },
      "source": [
        "<a href=\"https://colab.research.google.com/github/Syntax-code/Algorithms/blob/master/Insertion_Sort.ipynb\" target=\"_parent\"><img src=\"https://colab.research.google.com/assets/colab-badge.svg\" alt=\"Open In Colab\"/></a>"
      ]
    },
    {
      "cell_type": "code",
      "metadata": {
        "id": "Wt0Bfnbt4f3l",
        "colab_type": "code",
        "colab": {}
      },
      "source": [
        "class Algorithm:\n",
        "  def InsertionSort(self, arr):\n",
        "    for i in range(1, len(arr)):\n",
        "      val = arr[i]\n",
        "      j = i-1\n",
        "      while (j>=0) and (val<arr[j]):\n",
        "        arr[j + 1] = arr[j] \n",
        "        j -= 1 \n",
        "      arr[j + 1] = val\n",
        "    return arr"
      ],
      "execution_count": 0,
      "outputs": []
    },
    {
      "cell_type": "code",
      "metadata": {
        "id": "Myt-Kjd0eewe",
        "colab_type": "code",
        "colab": {
          "base_uri": "https://localhost:8080/",
          "height": 33
        },
        "outputId": "b240626c-c680-42c0-e9ae-e2c720f71cf2"
      },
      "source": [
        "arr = [12, 11, 13, 5, 6] \n",
        "insertionsort = Algorithm()\n",
        "print(insertionsort.InsertionSort(arr))"
      ],
      "execution_count": 11,
      "outputs": [
        {
          "output_type": "stream",
          "text": [
            "[5, 6, 11, 12, 13]\n"
          ],
          "name": "stdout"
        }
      ]
    }
  ]
}