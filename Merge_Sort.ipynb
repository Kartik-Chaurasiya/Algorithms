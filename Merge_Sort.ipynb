{
  "nbformat": 4,
  "nbformat_minor": 0,
  "metadata": {
    "colab": {
      "name": "Merge Sort.ipynb",
      "provenance": [],
      "authorship_tag": "ABX9TyOcuyK1+5LwinIGPdVpsGHd",
      "include_colab_link": true
    },
    "kernelspec": {
      "name": "python3",
      "display_name": "Python 3"
    }
  },
  "cells": [
    {
      "cell_type": "markdown",
      "metadata": {
        "id": "view-in-github",
        "colab_type": "text"
      },
      "source": [
        "<a href=\"https://colab.research.google.com/github/Syntax-code/Algorithms/blob/master/Merge_Sort.ipynb\" target=\"_parent\"><img src=\"https://colab.research.google.com/assets/colab-badge.svg\" alt=\"Open In Colab\"/></a>"
      ]
    },
    {
      "cell_type": "code",
      "metadata": {
        "id": "MwaPdbfQql8U",
        "colab_type": "code",
        "colab": {}
      },
      "source": [
        "class Algorithm:\n",
        "  def MergeSort(self, arr):\n",
        "    if len(arr) > 1:\n",
        "      mid = len(arr)//2     \n",
        "      #// is used to floor the value\n",
        "      L = arr[:mid]   #divide\n",
        "      R = arr[mid:]   #divide\n",
        "\n",
        "      self.MergeSort(L)\n",
        "      self.MergeSort(R)\n",
        "      i = j = k = 0\n",
        "\n",
        "      #sort which is smaller\n",
        "      while i< len(L) and j < len(R):\n",
        "        if L[i] < R[j]:\n",
        "          arr[k] = L[i]\n",
        "          i += 1\n",
        "        else :\n",
        "          arr[k] = R[j]\n",
        "          j += 1\n",
        "        k += 1\n",
        "      \n",
        "      #check if anything left\n",
        "      while  i <len(L) :\n",
        "        arr[k] = L[i]\n",
        "        i += 1\n",
        "        k += 1\n",
        "      while  i <len(R) :\n",
        "        arr[k] = R[j]\n",
        "        i += 1\n",
        "        k += 1\n",
        "    return arr\n",
        "\n",
        "\n"
      ],
      "execution_count": 0,
      "outputs": []
    },
    {
      "cell_type": "code",
      "metadata": {
        "id": "KssLWRa4qsSP",
        "colab_type": "code",
        "colab": {
          "base_uri": "https://localhost:8080/",
          "height": 33
        },
        "outputId": "6f048b14-2ed0-48aa-db68-b2c0425ea921"
      },
      "source": [
        "arr = [12, 11, 13, 5, 6, 7] \n",
        "mergesort = Algorithm()\n",
        "print(mergesort.MergeSort(arr))"
      ],
      "execution_count": 4,
      "outputs": [
        {
          "output_type": "stream",
          "text": [
            "[5, 6, 7, 11, 12, 13]\n"
          ],
          "name": "stdout"
        }
      ]
    }
  ]
}