{
  "nbformat": 4,
  "nbformat_minor": 0,
  "metadata": {
    "colab": {
      "name": "Selection Sort.ipynb",
      "provenance": [],
      "authorship_tag": "ABX9TyOj9Guz/WrGWxpJTi4QiSO7",
      "include_colab_link": true
    },
    "kernelspec": {
      "name": "python3",
      "display_name": "Python 3"
    }
  },
  "cells": [
    {
      "cell_type": "markdown",
      "metadata": {
        "id": "view-in-github",
        "colab_type": "text"
      },
      "source": [
        "<a href=\"https://colab.research.google.com/github/Syntax-code/Algorithms/blob/master/Selection_Sort.ipynb\" target=\"_parent\"><img src=\"https://colab.research.google.com/assets/colab-badge.svg\" alt=\"Open In Colab\"/></a>"
      ]
    },
    {
      "cell_type": "code",
      "metadata": {
        "id": "r3D53nul1U4R",
        "colab_type": "code",
        "colab": {}
      },
      "source": [
        "class Algorithm:\n",
        "  def SelectionSort(self, arr):\n",
        "    l = len(arr)\n",
        "    min_idx = 0\n",
        "    for i in range(0,l):\n",
        "      min = self.min_ele(arr , l, i)\n",
        "      arr[min_idx], arr[min] = arr[min], arr[min_idx]\n",
        "      min_idx += 1\n",
        "    return arr\n",
        "  \n",
        "#function to find minimum number index\n",
        "\n",
        "  def min_ele(self, arr, l, i):     \n",
        "      min_idx = i\n",
        "      for j in range(i+1, l): \n",
        "        if arr[min_idx] > arr[j]: \n",
        "          min_idx = j\n",
        "      return min_idx\n",
        "\n",
        "\n"
      ],
      "execution_count": 0,
      "outputs": []
    },
    {
      "cell_type": "code",
      "metadata": {
        "id": "wM-W3KmF1wwM",
        "colab_type": "code",
        "colab": {
          "base_uri": "https://localhost:8080/",
          "height": 33
        },
        "outputId": "1a373953-f548-4ee4-a120-06ae7fbebea3"
      },
      "source": [
        "arr = [64, 25, 12, 22, 11] \n",
        "selectionsort = Algorithm()\n",
        "print(selectionsort.SelectionSort(arr))"
      ],
      "execution_count": 19,
      "outputs": [
        {
          "output_type": "stream",
          "text": [
            "[11, 12, 22, 25, 64]\n"
          ],
          "name": "stdout"
        }
      ]
    }
  ]
}