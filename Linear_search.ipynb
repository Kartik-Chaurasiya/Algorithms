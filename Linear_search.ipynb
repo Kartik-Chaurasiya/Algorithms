{
  "nbformat": 4,
  "nbformat_minor": 0,
  "metadata": {
    "colab": {
      "name": "Linear search.ipynb",
      "provenance": [],
      "authorship_tag": "ABX9TyMx2mIoZZ8J6rL00CJk0KL7",
      "include_colab_link": true
    },
    "kernelspec": {
      "name": "python3",
      "display_name": "Python 3"
    }
  },
  "cells": [
    {
      "cell_type": "markdown",
      "metadata": {
        "id": "view-in-github",
        "colab_type": "text"
      },
      "source": [
        "<a href=\"https://colab.research.google.com/github/Syntax-code/Algorithms/blob/master/Linear_search.ipynb\" target=\"_parent\"><img src=\"https://colab.research.google.com/assets/colab-badge.svg\" alt=\"Open In Colab\"/></a>"
      ]
    },
    {
      "cell_type": "code",
      "metadata": {
        "id": "1b83BmHtrGEh",
        "colab_type": "code",
        "colab": {}
      },
      "source": [
        "class Algorithm:\n",
        "  def LinearSearch(self, array, key):\n",
        "    l = len(array)\n",
        "    for i in range(0, l):\n",
        "      if array[i] == key:\n",
        "        return i\n",
        "    return -1\n"
      ],
      "execution_count": 0,
      "outputs": []
    },
    {
      "cell_type": "code",
      "metadata": {
        "id": "2w_TpSfFrryl",
        "colab_type": "code",
        "colab": {
          "base_uri": "https://localhost:8080/",
          "height": 33
        },
        "outputId": "94dce002-dad0-4252-8999-785b2762ab2b"
      },
      "source": [
        "linear = Algorithm()\n",
        "linear.LinearSearch([23,54,67,12,35,46,97], 12)"
      ],
      "execution_count": 8,
      "outputs": [
        {
          "output_type": "execute_result",
          "data": {
            "text/plain": [
              "3"
            ]
          },
          "metadata": {
            "tags": []
          },
          "execution_count": 8
        }
      ]
    }
  ]
}