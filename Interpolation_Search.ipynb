{
  "nbformat": 4,
  "nbformat_minor": 0,
  "metadata": {
    "colab": {
      "name": "Interpolation Search.ipynb",
      "provenance": [],
      "authorship_tag": "ABX9TyMemOkmQ/VBeQyHe580wJ9n",
      "include_colab_link": true
    },
    "kernelspec": {
      "name": "python3",
      "display_name": "Python 3"
    }
  },
  "cells": [
    {
      "cell_type": "markdown",
      "metadata": {
        "id": "view-in-github",
        "colab_type": "text"
      },
      "source": [
        "<a href=\"https://colab.research.google.com/github/Syntax-code/Algorithms/blob/master/Interpolation_Search.ipynb\" target=\"_parent\"><img src=\"https://colab.research.google.com/assets/colab-badge.svg\" alt=\"Open In Colab\"/></a>"
      ]
    },
    {
      "cell_type": "code",
      "metadata": {
        "id": "8N-izwyjJqMs",
        "colab_type": "code",
        "colab": {}
      },
      "source": [
        "class Algorithm:\n",
        "  def InterpolationSearch(self, arr, key):\n",
        "    l =len(arr)\n",
        "    low = 0\n",
        "    high = (l - 1)\n",
        "    while low <= high and key >= arr[low] and key <= arr[high]:\n",
        "      if low == high: \n",
        "        if arr[low] == key:  \n",
        "          return low; \n",
        "        return -1; \n",
        "      \n",
        "      pos = low + int(((float(high - low) / ( arr[high] - arr[low])) * ( key - arr[low])))\n",
        "\n",
        "      if arr[pos] == key:\n",
        "        return pos\n",
        "      elif arr[pos] < key:\n",
        "        low = pos +1\n",
        "      elif arr[pos] > key:\n",
        "        high = pos - 1\n",
        "    return -1\n"
      ],
      "execution_count": 0,
      "outputs": []
    },
    {
      "cell_type": "code",
      "metadata": {
        "id": "mln3pvXGJtwK",
        "colab_type": "code",
        "colab": {
          "base_uri": "https://localhost:8080/",
          "height": 33
        },
        "outputId": "5ad5b712-babb-4833-af16-3994053bf048"
      },
      "source": [
        "arr =[10, 12, 13, 16, 18, 19, 20, 21, 22, 23, 24, 33, 35, 42, 47] \n",
        "key =18\n",
        "interpolation = Algorithm()\n",
        "interpolation.InterpolationSearch(arr, key)\n"
      ],
      "execution_count": 7,
      "outputs": [
        {
          "output_type": "execute_result",
          "data": {
            "text/plain": [
              "4"
            ]
          },
          "metadata": {
            "tags": []
          },
          "execution_count": 7
        }
      ]
    }
  ]
}