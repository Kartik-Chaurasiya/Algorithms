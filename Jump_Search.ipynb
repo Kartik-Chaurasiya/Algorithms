{
  "nbformat": 4,
  "nbformat_minor": 0,
  "metadata": {
    "colab": {
      "name": "Jump Search.ipynb",
      "provenance": [],
      "authorship_tag": "ABX9TyPsen8iAG7VIdQyj70YLQW9",
      "include_colab_link": true
    },
    "kernelspec": {
      "name": "python3",
      "display_name": "Python 3"
    }
  },
  "cells": [
    {
      "cell_type": "markdown",
      "metadata": {
        "id": "view-in-github",
        "colab_type": "text"
      },
      "source": [
        "<a href=\"https://colab.research.google.com/github/Syntax-code/Algorithms/blob/master/Jump_Search.ipynb\" target=\"_parent\"><img src=\"https://colab.research.google.com/assets/colab-badge.svg\" alt=\"Open In Colab\"/></a>"
      ]
    },
    {
      "cell_type": "code",
      "metadata": {
        "id": "QKJv1c8EDaaf",
        "colab_type": "code",
        "colab": {}
      },
      "source": [
        "import math\n",
        "class Algorithm:\n",
        "  def JumpSearch(self,arr , key):\n",
        "    l = len(arr)\n",
        "    jump = int(math.sqrt(l))\n",
        "    for i in range(0,l):\n",
        "      if arr[i] == key:\n",
        "        return i\n",
        "      elif arr[i] > key:\n",
        "        i -= jump\n",
        "        result = self.LinearSearch(arr, i, key)\n",
        "        return result\n",
        "      i += jump\n",
        "    \n",
        "  def LinearSearch(self,arr, i, key):\n",
        "    for j in range(i, i+1):\n",
        "      if arr[i] == key:\n",
        "        return i\n",
        "    return -1\n",
        "\n",
        "\n",
        "\n",
        "\n"
      ],
      "execution_count": 0,
      "outputs": []
    },
    {
      "cell_type": "code",
      "metadata": {
        "id": "ChuUOgJ6DrFZ",
        "colab_type": "code",
        "colab": {
          "base_uri": "https://localhost:8080/",
          "height": 33
        },
        "outputId": "db5656a4-0f4c-4d30-92c0-8a36cd8f61d2"
      },
      "source": [
        "arr =[0, 1, 1, 2, 3, 5, 8, 13, 21, 34, 55, 89, 144, 233, 377, 610]\n",
        "algo = Algorithm()\n",
        "algo.JumpSearch(arr, 89)"
      ],
      "execution_count": 22,
      "outputs": [
        {
          "output_type": "execute_result",
          "data": {
            "text/plain": [
              "11"
            ]
          },
          "metadata": {
            "tags": []
          },
          "execution_count": 22
        }
      ]
    }
  ]
}